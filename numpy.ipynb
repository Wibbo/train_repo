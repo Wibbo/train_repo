{
 "cells": [
  {
   "cell_type": "markdown",
   "metadata": {},
   "source": [
    "## Numpy for python\n",
    "\n",
    "Numerical Python (NumPy) is an open source Python library for scientific computing. NumPy provides a host of  features that allow a Python programmer to work with high-performance (and multidimensional) arrays and matrices. NumPy arrays are stored more efficiently than Python lists and allow mathematical operations to be vectorised, which results in significantly higher performance than with looping constructs in Python. \n",
    "\n",
    "Read more here: https://tinyurl.com/yxz8qfjq\n",
    "\n",
    "Let's start by importing the modules we will be using in this notebook."
   ]
  },
  {
   "cell_type": "code",
   "execution_count": 28,
   "metadata": {},
   "outputs": [],
   "source": [
    "# Import numpy and random modules.\n",
    "import random\n",
    "import numpy as np"
   ]
  },
  {
   "cell_type": "markdown",
   "metadata": {},
   "source": [
    "## Creating numpy arrays\n",
    "There are several ways we can create numpy arrays, some examples are provided below."
   ]
  },
  {
   "cell_type": "code",
   "execution_count": 29,
   "metadata": {},
   "outputs": [],
   "source": [
    "a1 = np.array([1, 2, 3, 4, 5])             # create an array from a list.\n",
    "a2 = np.array(range(20))                   # create an array from a range.\n",
    "a3 = np.arange(0, 100, 5)                  # a step can be provided.\n",
    "a4 = np.zeros(10, dtype=int)               # create an array containing 10 zeros of type integer.\n",
    "a5 = np.linspace(1, 100, 6)                # create an array with equally spaced values.\n",
    "a6 = [random.random() for _ in range(100)] # create an array containing random elements."
   ]
  },
  {
   "cell_type": "markdown",
   "metadata": {},
   "source": [
    "Print out the arrays below and check that each contains what you would expect. Change the values above and re-run the cells to see what impact this has."
   ]
  },
  {
   "cell_type": "code",
   "execution_count": 30,
   "metadata": {},
   "outputs": [
    {
     "name": "stdout",
     "output_type": "stream",
     "text": [
      "The contents of a1 is [1 2 3 4 5]\n",
      "The contents of a2 is [ 0  1  2  3  4  5  6  7  8  9 10 11 12 13 14 15 16 17 18 19]\n",
      "The contents of a3 is [ 0  5 10 15 20 25 30 35 40 45 50 55 60 65 70 75 80 85 90 95]\n",
      "The contents of a4 is [0 0 0 0 0 0 0 0 0 0]\n",
      "The contents of a5 is [  1.   20.8  40.6  60.4  80.2 100. ]\n",
      "The contents of a6 is [0.7144520070505388, 0.7310691050336303, 0.030818233219136904]\n"
     ]
    }
   ],
   "source": [
    "print(f'The contents of a1 is {a1}')\n",
    "print(f'The contents of a2 is {a2}')\n",
    "print(f'The contents of a3 is {a3}')\n",
    "print(f'The contents of a4 is {a4}')\n",
    "print(f'The contents of a5 is {a5}')\n",
    "print(f'The contents of a6 is {a6[:3]}') # this prints the first 3 values only."
   ]
  },
  {
   "cell_type": "markdown",
   "metadata": {},
   "source": [
    "## Reshaping arrays\n",
    "\n",
    "It is often easier to create a single dimension numpy array and then reshape it to whatever you need. See below:"
   ]
  },
  {
   "cell_type": "code",
   "execution_count": 43,
   "metadata": {},
   "outputs": [
    {
     "name": "stdout",
     "output_type": "stream",
     "text": [
      "Structure of a7\n",
      "[ 0  1  2  3  4  5  6  7  8  9 10 11 12 13 14 15 16 17 18 19]\n",
      "Structure of a8 (10 rows, 2 columns)\n",
      "[[ 0  1]\n",
      " [ 2  3]\n",
      " [ 4  5]\n",
      " [ 6  7]\n",
      " [ 8  9]\n",
      " [10 11]\n",
      " [12 13]\n",
      " [14 15]\n",
      " [16 17]\n",
      " [18 19]]\n",
      "Structure of a9(4 rows, 5 columns)\n",
      "[[ 0  1  2  3  4]\n",
      " [ 5  6  7  8  9]\n",
      " [10 11 12 13 14]\n",
      " [15 16 17 18 19]]\n"
     ]
    }
   ],
   "source": [
    "a7 = np.arange(20)\n",
    "a8 = a7.reshape(10,2)\n",
    "a9 = a7.reshape(4,5)\n",
    "print(f'Structure of a7\\n{a7}')\n",
    "print(f'Structure of a8 (10 rows, 2 columns)\\n{a8}')\n",
    "print(f'Structure of a9(4 rows, 5 columns)\\n{a9}')"
   ]
  },
  {
   "cell_type": "code",
   "execution_count": null,
   "metadata": {},
   "outputs": [],
   "source": []
  }
 ],
 "metadata": {
  "kernelspec": {
   "display_name": "Python 3",
   "language": "python",
   "name": "python3"
  },
  "language_info": {
   "codemirror_mode": {
    "name": "ipython",
    "version": 3
   },
   "file_extension": ".py",
   "mimetype": "text/x-python",
   "name": "python",
   "nbconvert_exporter": "python",
   "pygments_lexer": "ipython3",
   "version": "3.8.5"
  }
 },
 "nbformat": 4,
 "nbformat_minor": 4
}
